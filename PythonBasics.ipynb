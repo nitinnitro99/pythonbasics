{
  "nbformat": 4,
  "nbformat_minor": 0,
  "metadata": {
    "colab": {
      "provenance": []
    },
    "kernelspec": {
      "name": "python3",
      "display_name": "Python 3"
    },
    "language_info": {
      "name": "python"
    }
  },
  "cells": [
    {
      "cell_type": "code",
      "execution_count": null,
      "metadata": {
        "id": "ropJglI0-IyH"
      },
      "outputs": [],
      "source": []
    },
    {
      "cell_type": "markdown",
      "source": [
        "#Python Basics Assignment"
      ],
      "metadata": {
        "id": "57ncfcLZ-Qe7"
      }
    },
    {
      "cell_type": "markdown",
      "source": [
        "**Q1. What is Python, and why is it popular?**\n",
        "- Python is interpreted programming language, which is easy to learn and simple to write.\n",
        "- It has easy to understand syntax.\n",
        "- It has a vast ecosystem of libraries and frameworks for data science and AI.\n",
        "- Its community support is very big.\n",
        "\n",
        "**Q2: What is an interpreter in Python?**\n",
        "- An interpreter in Python executes code line by line, converting it into machine-readable format. This allows for dynamic execution, easy debugging, and faster development compared to compiled languages.\n",
        "\n",
        "**Q3: What are pre-defined keywords in Python?**\n",
        "- Pre-defined keywords are the reserved keywords in python for specific work and purpose and it can not be used as variables. for example : if, eilf, else statements.\n",
        "\n",
        "**Q4: Can keywords be used as variable names?**\n",
        "- No, Keywords can not be used as variable names because it is reserved in python. if we somehow the name a variable in name of reserved keyword, it will show error.\n",
        "\n",
        "**Q5: What is mutability in Python?**\n",
        "- It is a ability of object that can be modified later for example Mutable objects is Lists, dictionaries, sets and Immutable objects is Tuples, strings, and numbers.\n",
        "\n",
        "**Q6: Why are lists mutable, but tuples are immutable?**\n",
        "- Lists are mutable because they are designed to allow modification, such as adding, removing, or updating elements. Tuples are immutable to ensure data integrity, making them suitable for situations where data should not change.\n",
        "\n",
        "**Q7: What is the difference between == and is operators in Python?**\n",
        "- \"==\" Checks for value equality. It evaluates whether two objects have the same value.\n",
        "-\"is\" Checks for reference equality. It evaluates whether two variables refer to the same object in memory.\n",
        "\n",
        "**Q8: What are logical operators in Python?**\n",
        "- Logical operators are used to combine conditional statements:\n",
        "\n",
        "- \"and\" Returns True if both conditions are True.\n",
        "- \"or\" Returns True if at least one condition is True.\n",
        "- \"not\" Reverses the truth value of the condition.\n",
        "\n",
        "**Q9: What is type casting in Python?**\n",
        "- Type casting is the process of converting one data type into another.\n",
        "\n",
        "**Q10:  What is the difference between implicit and explicit type casting?**\n",
        "- Implicit typecasting is the type of type casting that can can one data type into another, automatically. for example int + float = float\n",
        "- Explicit typecasting is a type of typecasting that can change one data type to another, manually. for example x = \"5\" = int(\"5\")\n",
        "\n",
        "**Q11: What is the purpose of conditional statements in Python?**\n",
        "- Conditional statements control the flow of a program by executing different blocks of code based on specified conditions. Examples include if, elif, and else.\n",
        "\n",
        "**Q12:  How does the elif statement work?**\n",
        "- The elif statement allows you to check multiple conditions sequentially. If the if condition is False, Python checks the elif condition(s). The first True condition executes, and the rest are skipped.\n",
        "\n",
        "**Q13: What is the difference between for and while loops?**\n",
        "- For loop: Iterates over a sequence for a specific number of iterations. for example ieration on list, range, string\n",
        "- While loop: Repeats execution as long as a condition remains True.\n",
        "\n"
      ],
      "metadata": {
        "id": "ADt8ZFhw-Z_b"
      }
    },
    {
      "cell_type": "code",
      "source": [
        "'''Q14: Describe a scenario where a while loop is more suitable than a for loop.\n",
        "\n",
        "Ans: A while loop is ideal when the number of iterations is unknown and depends on a condition.'''\n",
        "\n",
        "# Example: Waiting for user input until it is correct\n",
        "password = \"\"\n",
        "while password != \"secret\":\n",
        "    password = input(\"Enter the password: \")\n"
      ],
      "metadata": {
        "colab": {
          "base_uri": "https://localhost:8080/"
        },
        "id": "jJfIoZMm7mPF",
        "outputId": "4f28ea39-3a5b-430a-aee7-2920cb1c7d71"
      },
      "execution_count": null,
      "outputs": [
        {
          "name": "stdout",
          "output_type": "stream",
          "text": [
            "Enter the password: frf\n",
            "Enter the password: secret\n"
          ]
        }
      ]
    },
    {
      "cell_type": "markdown",
      "source": [
        "# Practical Questions"
      ],
      "metadata": {
        "id": "oPlIswMnWFQj"
      }
    },
    {
      "cell_type": "code",
      "source": [
        "#1. Write a Python program to print \"Hello, World!\"\n",
        "\n",
        "print(\"Hello, World!\")"
      ],
      "metadata": {
        "colab": {
          "base_uri": "https://localhost:8080/"
        },
        "id": "sV_jXaCJWKvr",
        "outputId": "5baba04a-d378-405a-be18-5a650e0e1451"
      },
      "execution_count": null,
      "outputs": [
        {
          "output_type": "stream",
          "name": "stdout",
          "text": [
            "Hello, World!\n"
          ]
        }
      ]
    },
    {
      "cell_type": "code",
      "source": [
        "#2. Write a Python program that displays your name and age\n",
        "\n",
        "name = \"Nitin\"\n",
        "age = 24\n",
        "print(f\"My name is {name} and I am {age} years old.\")\n"
      ],
      "metadata": {
        "colab": {
          "base_uri": "https://localhost:8080/"
        },
        "id": "JhrXmzv8WWxt",
        "outputId": "fa185026-ad29-42e4-b6ac-fd753a076954"
      },
      "execution_count": null,
      "outputs": [
        {
          "output_type": "stream",
          "name": "stdout",
          "text": [
            "My name is Nitin and I am 24 years old.\n"
          ]
        }
      ]
    },
    {
      "cell_type": "code",
      "source": [
        "#3. Write code to print all the pre-defined keywords in Python using the keyword library\n",
        "\n",
        "import keyword\n",
        "print(\"Python keywords are:\")\n",
        "print(keyword.kwlist)\n",
        "\n"
      ],
      "metadata": {
        "colab": {
          "base_uri": "https://localhost:8080/"
        },
        "id": "C5eLIH5OY03f",
        "outputId": "c4f75b07-86f5-4c79-bc6b-fcde95918c3b"
      },
      "execution_count": null,
      "outputs": [
        {
          "output_type": "stream",
          "name": "stdout",
          "text": [
            "Python keywords are:\n",
            "['False', 'None', 'True', 'and', 'as', 'assert', 'async', 'await', 'break', 'class', 'continue', 'def', 'del', 'elif', 'else', 'except', 'finally', 'for', 'from', 'global', 'if', 'import', 'in', 'is', 'lambda', 'nonlocal', 'not', 'or', 'pass', 'raise', 'return', 'try', 'while', 'with', 'yield']\n"
          ]
        }
      ]
    },
    {
      "cell_type": "code",
      "source": [
        "#4. Write a program that checks if a given word is a Python keyword\n",
        "\n",
        "import keyword\n",
        "\n",
        "word = input(\"Enter a word: \")\n",
        "if keyword.iskeyword(word):\n",
        "    print(f\"{word} is a Python keyword.\")\n",
        "else:\n",
        "    print(f\"{word} is not a Python keyword.\")\n"
      ],
      "metadata": {
        "colab": {
          "base_uri": "https://localhost:8080/"
        },
        "id": "aS0qIN9baBO6",
        "outputId": "7869bd49-bdd1-4635-a546-adaf1aecb1e7"
      },
      "execution_count": null,
      "outputs": [
        {
          "output_type": "stream",
          "name": "stdout",
          "text": [
            "Enter a word: if\n",
            "if is a Python keyword.\n"
          ]
        }
      ]
    },
    {
      "cell_type": "code",
      "source": [
        "#5. Create a list and tuple in Python, and demonstrate how attempting to change an element works differently for each\n",
        "\n",
        "#list example\n",
        "one_list = [2, 3, \"Nitin\", 225, \"Sumit\"]\n",
        "\n",
        "one_list[4] = \"Rohan\"\n",
        "print(\"Updated List: \",one_list)\n",
        "\n",
        "# Tuple example\n",
        "one_tuple = (2, 3, \"Nitin\", 225, \"Sumit\")\n",
        "try:\n",
        "    one_tuple[4] = \"sumit\"\n",
        "except TypeError:\n",
        "    print(\"Tuples are immutable, so elements cannot be changed.\")"
      ],
      "metadata": {
        "colab": {
          "base_uri": "https://localhost:8080/"
        },
        "id": "xr_CQ0wVafBu",
        "outputId": "0681bd70-0f67-478e-8fa0-5a74c23fadfa"
      },
      "execution_count": null,
      "outputs": [
        {
          "output_type": "stream",
          "name": "stdout",
          "text": [
            "Updated List:  [2, 3, 'Nitin', 225, 'Rohan']\n",
            "Tuples are immutable, so elements cannot be changed.\n"
          ]
        }
      ]
    },
    {
      "cell_type": "code",
      "source": [
        "#Q6 & 7. Write a function to demonstrate the behavior of mutable and immutable arguments\n",
        "\n",
        "def modify_objects(mutable_list, immutable_tuple):\n",
        "    mutable_list.append(4)  # Modifies the original list\n",
        "    try:\n",
        "        immutable_tuple += (4,)  # Creates a new tuple, original remains unchanged\n",
        "    except TypeError:\n",
        "        pass\n",
        "\n",
        "my_list = [1, 2, 3]\n",
        "my_tuple = (1, 2, 3)\n",
        "modify_objects(my_list, my_tuple)\n",
        "\n",
        "print(\"Modified list:\", my_list)\n",
        "print(\"Original tuple remains unchanged:\", my_tuple)\n",
        "\n"
      ],
      "metadata": {
        "id": "ov2ZxmitbmFh",
        "colab": {
          "base_uri": "https://localhost:8080/"
        },
        "outputId": "08c19548-c030-4b9a-e428-241a1e31578e"
      },
      "execution_count": 3,
      "outputs": [
        {
          "output_type": "stream",
          "name": "stdout",
          "text": [
            "Modified list: [1, 2, 3, 4]\n",
            "Original tuple remains unchanged: (1, 2, 3)\n"
          ]
        }
      ]
    },
    {
      "cell_type": "code",
      "source": [
        "#8. Write a program to demonstrate the use of logical operators\n",
        "\n",
        "x = 20\n",
        "y = 10\n",
        "z = 5\n",
        "if x > y and x > z:\n",
        "    print(\"If both satement are true, then and operater will print.\")\n",
        "elif y > x or y > z:\n",
        "    print(\"If one satement is true, then or operater will print\")\n",
        "elif not y > x:\n",
        "    print(\"If satement is not true, then not operater will print\")\n",
        "\n",
        "else:\n",
        "    print(\"nothing.\")"
      ],
      "metadata": {
        "colab": {
          "base_uri": "https://localhost:8080/"
        },
        "id": "oe1wT5kCubxY",
        "outputId": "8882a393-f10a-43d3-e521-c27f1a830348"
      },
      "execution_count": null,
      "outputs": [
        {
          "output_type": "stream",
          "name": "stdout",
          "text": [
            "If both satement are true, then and operater will print.\n"
          ]
        }
      ]
    },
    {
      "cell_type": "code",
      "source": [
        "#9. Write a Python program to convert user input from string to integer, float, and boolean types\n",
        "\n",
        "user_input = input(\"Enter a value: \")\n",
        "\n",
        "input_int = int(user_input)\n",
        "input_float = float(user_input)\n",
        "input_bool = bool(user_input)\n",
        "\n",
        "print(\"Input as integer:\", input_int)\n",
        "print(\"Input as float:\", input_float)\n",
        "print(\"Input as boolean:\", input_bool)"
      ],
      "metadata": {
        "colab": {
          "base_uri": "https://localhost:8080/"
        },
        "id": "4goSH8_IyPY-",
        "outputId": "eaa8816a-d227-4603-bd72-c177c255fbf9"
      },
      "execution_count": null,
      "outputs": [
        {
          "output_type": "stream",
          "name": "stdout",
          "text": [
            "Enter a value: 20\n",
            "Input as integer: 20\n",
            "Input as float: 20.0\n",
            "Input as boolean: True\n"
          ]
        }
      ]
    },
    {
      "cell_type": "code",
      "source": [
        "#10. Write code to demonstrate type casting with list elements\n",
        "\n",
        "my_list = [1, 2, 3, 4, 5]\n",
        "my_list = [str(item) for item in my_list]\n",
        "print(my_list)\n"
      ],
      "metadata": {
        "colab": {
          "base_uri": "https://localhost:8080/"
        },
        "id": "s3-k0TrDzb7I",
        "outputId": "e6170c6a-f7b7-49f5-a241-9f234a82c3ca"
      },
      "execution_count": null,
      "outputs": [
        {
          "output_type": "stream",
          "name": "stdout",
          "text": [
            "['1', '2', '3', '4', '5']\n"
          ]
        }
      ]
    },
    {
      "cell_type": "code",
      "source": [
        "#Q11. Write a program that checks if a number is positive, negative, or zero\n",
        "\n",
        "a = int(input('Enter your number: '))\n",
        "\n",
        "if a > 0:\n",
        "    print(\"Positive number\")\n",
        "elif a < 0:\n",
        "    print(\"Negative number\")\n",
        "else:\n",
        "    print(\"Number is Zero\")\n",
        "\n",
        "\n",
        "\n"
      ],
      "metadata": {
        "colab": {
          "base_uri": "https://localhost:8080/"
        },
        "id": "rZ2u7R-5z-hC",
        "outputId": "d546d187-b78f-4b3f-f68a-7d9b2739e36e"
      },
      "execution_count": null,
      "outputs": [
        {
          "output_type": "stream",
          "name": "stdout",
          "text": [
            "Enter your number: 0\n",
            "Number is Zero\n"
          ]
        }
      ]
    },
    {
      "cell_type": "code",
      "source": [
        "#12. Write a for loop to print numbers from 1 to 100\n",
        "\n",
        "for i in range(1, 101):\n",
        "    print(i, end=\" \")"
      ],
      "metadata": {
        "colab": {
          "base_uri": "https://localhost:8080/"
        },
        "id": "D8ccDL6JlGz2",
        "outputId": "ed31a737-6d80-462e-aa8f-24042f3f8dee"
      },
      "execution_count": null,
      "outputs": [
        {
          "output_type": "stream",
          "name": "stdout",
          "text": [
            "1 2 3 4 5 6 7 8 9 10 11 12 13 14 15 16 17 18 19 20 21 22 23 24 25 26 27 28 29 30 31 32 33 34 35 36 37 38 39 40 41 42 43 44 45 46 47 48 49 50 51 52 53 54 55 56 57 58 59 60 61 62 63 64 65 66 67 68 69 70 71 72 73 74 75 76 77 78 79 80 81 82 83 84 85 86 87 88 89 90 91 92 93 94 95 96 97 98 99 100 "
          ]
        }
      ]
    },
    {
      "cell_type": "code",
      "source": [
        "#13. Write a Python program to find the sum of all even numbers between 1 and 500\n",
        "\n",
        "for i in range(1, 501):\n",
        "    if i % 2 == 0:\n",
        "        print(i, end=\" \")"
      ],
      "metadata": {
        "colab": {
          "base_uri": "https://localhost:8080/"
        },
        "id": "jCoDiQzkpS7R",
        "outputId": "c78cdfdd-62f9-4c79-a500-5f3ab7570123"
      },
      "execution_count": null,
      "outputs": [
        {
          "output_type": "stream",
          "name": "stdout",
          "text": [
            "2 4 6 8 10 12 14 16 18 20 22 24 26 28 30 32 34 36 38 40 42 44 46 48 50 52 54 56 58 60 62 64 66 68 70 72 74 76 78 80 82 84 86 88 90 92 94 96 98 100 102 104 106 108 110 112 114 116 118 120 122 124 126 128 130 132 134 136 138 140 142 144 146 148 150 152 154 156 158 160 162 164 166 168 170 172 174 176 178 180 182 184 186 188 190 192 194 196 198 200 202 204 206 208 210 212 214 216 218 220 222 224 226 228 230 232 234 236 238 240 242 244 246 248 250 252 254 256 258 260 262 264 266 268 270 272 274 276 278 280 282 284 286 288 290 292 294 296 298 300 302 304 306 308 310 312 314 316 318 320 322 324 326 328 330 332 334 336 338 340 342 344 346 348 350 352 354 356 358 360 362 364 366 368 370 372 374 376 378 380 382 384 386 388 390 392 394 396 398 400 402 404 406 408 410 412 414 416 418 420 422 424 426 428 430 432 434 436 438 440 442 444 446 448 450 452 454 456 458 460 462 464 466 468 470 472 474 476 478 480 482 484 486 488 490 492 494 496 498 500 "
          ]
        }
      ]
    },
    {
      "cell_type": "code",
      "source": [
        "#14. Write a program to reverse a string using a while loop\n",
        "\n",
        "string = input(\"Enter a string: \")\n",
        "reversed_string = \"\"\n",
        "index = len(string) - 1\n",
        "\n",
        "while index >= 0:\n",
        "    reversed_string += string[index]\n",
        "    index -= 1\n",
        "\n",
        "print(\"Reversed string:\", reversed_string)\n",
        "\n",
        "\n"
      ],
      "metadata": {
        "id": "xvTna1NypxF5",
        "colab": {
          "base_uri": "https://localhost:8080/"
        },
        "outputId": "38374dfb-6058-4376-85ae-defdded3e288"
      },
      "execution_count": 2,
      "outputs": [
        {
          "output_type": "stream",
          "name": "stdout",
          "text": [
            "Enter a string: rohan\n",
            "Reversed string: nahor\n"
          ]
        }
      ]
    },
    {
      "cell_type": "code",
      "source": [
        "#15. Write a Python program to calculate the factorial of a number provided by the user using a while loop\n",
        "\n",
        "num = int(input(\"Enter a number: \"))\n",
        "factorial = 1\n",
        "current = 1\n",
        "\n",
        "while current <= num:\n",
        "    factorial *= current\n",
        "    current += 1\n",
        "\n",
        "print(f\"The factorial of {num} is {factorial}\")\n"
      ],
      "metadata": {
        "colab": {
          "base_uri": "https://localhost:8080/"
        },
        "id": "BLk2Na13UM2B",
        "outputId": "9639ca17-bc0d-4c8a-bd0d-6ca4bddc484e"
      },
      "execution_count": 1,
      "outputs": [
        {
          "output_type": "stream",
          "name": "stdout",
          "text": [
            "Enter a number: 24\n",
            "The factorial of 24 is 620448401733239439360000\n"
          ]
        }
      ]
    }
  ]
}